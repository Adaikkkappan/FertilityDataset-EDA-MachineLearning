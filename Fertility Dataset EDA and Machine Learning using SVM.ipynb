{
 "cells": [
  {
   "cell_type": "markdown",
   "id": "f43e0476",
   "metadata": {},
   "source": [
    "## Fertility Dataset EDA and Machine Learning using SVM"
   ]
  },
  {
   "cell_type": "markdown",
   "id": "388aaa5e",
   "metadata": {},
   "source": [
    "### Abstract: 100 volunteers provide a semen sample analyzed according to the WHO 2010 criteria. Sperm concentration are related to socio-demographic data, environmental factors, health status, and life habits\n",
    "\n",
    "#### Data Set Characteristics:\n",
    "\n",
    "#### Multivariate\n",
    "\n",
    "#### Number of Instances:\n",
    "\n",
    "100\n",
    "\n",
    "#### Area:\n",
    "\n",
    "Life\n",
    "\n",
    "#### Attribute Characteristics:\n",
    "\n",
    "Real\n",
    "\n",
    "#### Number of Attributes:\n",
    "\n",
    "10\n",
    "\n",
    "#### Date Donated\n",
    "\n",
    "2013-01-17\n",
    "\n",
    "#### Associated Tasks:\n",
    "\n",
    "Classification, Regression\n",
    "\n",
    "#### Missing Values?\n",
    "\n",
    "N/A\n",
    "\n",
    "#### Number of Web Hits:\n",
    "\n",
    "128756\n",
    "\n",
    "#### Source:\n",
    "David Gil,\n",
    "dgil '@' dtic.ua.es,\n",
    "Lucentia Research Group, Department of Computer Technology, University of Alicante\n",
    "\n",
    "Jose Luis Girela,\n",
    "girela '@' ua.es,\n",
    "Department of Biotechnology, University of Alicante"
   ]
  },
  {
   "cell_type": "markdown",
   "id": "f51d6573",
   "metadata": {},
   "source": [
    "#### Attribute Information:\n",
    "Season in which the analysis was performed. 1) winter, 2) spring, 3) Summer, 4) fall. (-1, -0.33, 0.33, 1)\n",
    "\n",
    "Age at the time of analysis. 18-36 (0, 1)\n",
    "\n",
    "Childish diseases (ie , chicken pox, measles, mumps, polio) 1) yes, 2) no. (0, 1)\n",
    "\n",
    "Accident or serious trauma 1) yes, 2) no. (0, 1)\n",
    "\n",
    "Surgical intervention 1) yes, 2) no. (0, 1)\n",
    "\n",
    "High fevers in the last year 1) less than three months ago, 2) more than three months ago, 3) no. (-1, 0, 1)\n",
    "\n",
    "Frequency of alcohol consumption 1) several times a day, 2) every day, 3) several times a week, 4) once a week, 5) hardly ever or never (0, 1)\n",
    "\n",
    "Smoking habit 1) never, 2) occasional 3) daily. (-1, 0, 1)\n",
    "\n",
    "Number of hours spent sitting per day ene-16 (0, 1)\n",
    "\n",
    "Output: Diagnosis normal (N), altered (O)"
   ]
  },
  {
   "cell_type": "markdown",
   "id": "579c017a",
   "metadata": {},
   "source": [
    "### Data Lookup & Cleaning"
   ]
  },
  {
   "cell_type": "code",
   "execution_count": 1,
   "id": "bf5b710b",
   "metadata": {},
   "outputs": [],
   "source": [
    "import numpy as np # linear algebra\n",
    "import pandas as pd # data processing, CSV file I/O (e.g. pd.read_csv)\n",
    "from matplotlib import pyplot as plt\n",
    "import seaborn as sns\n",
    "import warnings\n",
    "warnings.filterwarnings('ignore')\n",
    "%matplotlib inline\n",
    "\n",
    "import plotly.express as px"
   ]
  },
  {
   "cell_type": "markdown",
   "id": "5b2fc0e1",
   "metadata": {},
   "source": [
    "#### Reading the Dataset and assigning that to the variable df"
   ]
  },
  {
   "cell_type": "code",
   "execution_count": 2,
   "id": "e7721940",
   "metadata": {},
   "outputs": [],
   "source": [
    "df=pd.read_csv('fertility.csv')"
   ]
  },
  {
   "cell_type": "markdown",
   "id": "f6b427b2",
   "metadata": {},
   "source": [
    "#### Access the first 5 rows of a dataframe"
   ]
  },
  {
   "cell_type": "code",
   "execution_count": 3,
   "id": "87e351bf",
   "metadata": {},
   "outputs": [
    {
     "data": {
      "text/html": [
       "<div>\n",
       "<style scoped>\n",
       "    .dataframe tbody tr th:only-of-type {\n",
       "        vertical-align: middle;\n",
       "    }\n",
       "\n",
       "    .dataframe tbody tr th {\n",
       "        vertical-align: top;\n",
       "    }\n",
       "\n",
       "    .dataframe thead th {\n",
       "        text-align: right;\n",
       "    }\n",
       "</style>\n",
       "<table border=\"1\" class=\"dataframe\">\n",
       "  <thead>\n",
       "    <tr style=\"text-align: right;\">\n",
       "      <th></th>\n",
       "      <th>Season</th>\n",
       "      <th>Age</th>\n",
       "      <th>Childish diseases</th>\n",
       "      <th>Accident or serious trauma</th>\n",
       "      <th>Surgical intervention</th>\n",
       "      <th>High fevers in the last year</th>\n",
       "      <th>Frequency of alcohol consumption</th>\n",
       "      <th>Smoking habit</th>\n",
       "      <th>Number of hours spent sitting per day</th>\n",
       "      <th>Diagnosis</th>\n",
       "    </tr>\n",
       "  </thead>\n",
       "  <tbody>\n",
       "    <tr>\n",
       "      <th>0</th>\n",
       "      <td>spring</td>\n",
       "      <td>30</td>\n",
       "      <td>no</td>\n",
       "      <td>yes</td>\n",
       "      <td>yes</td>\n",
       "      <td>more than 3 months ago</td>\n",
       "      <td>once a week</td>\n",
       "      <td>occasional</td>\n",
       "      <td>16</td>\n",
       "      <td>Normal</td>\n",
       "    </tr>\n",
       "    <tr>\n",
       "      <th>1</th>\n",
       "      <td>spring</td>\n",
       "      <td>35</td>\n",
       "      <td>yes</td>\n",
       "      <td>no</td>\n",
       "      <td>yes</td>\n",
       "      <td>more than 3 months ago</td>\n",
       "      <td>once a week</td>\n",
       "      <td>daily</td>\n",
       "      <td>6</td>\n",
       "      <td>Altered</td>\n",
       "    </tr>\n",
       "    <tr>\n",
       "      <th>2</th>\n",
       "      <td>spring</td>\n",
       "      <td>27</td>\n",
       "      <td>yes</td>\n",
       "      <td>no</td>\n",
       "      <td>no</td>\n",
       "      <td>more than 3 months ago</td>\n",
       "      <td>hardly ever or never</td>\n",
       "      <td>never</td>\n",
       "      <td>9</td>\n",
       "      <td>Normal</td>\n",
       "    </tr>\n",
       "    <tr>\n",
       "      <th>3</th>\n",
       "      <td>spring</td>\n",
       "      <td>32</td>\n",
       "      <td>no</td>\n",
       "      <td>yes</td>\n",
       "      <td>yes</td>\n",
       "      <td>more than 3 months ago</td>\n",
       "      <td>hardly ever or never</td>\n",
       "      <td>never</td>\n",
       "      <td>7</td>\n",
       "      <td>Normal</td>\n",
       "    </tr>\n",
       "    <tr>\n",
       "      <th>4</th>\n",
       "      <td>spring</td>\n",
       "      <td>30</td>\n",
       "      <td>yes</td>\n",
       "      <td>yes</td>\n",
       "      <td>no</td>\n",
       "      <td>more than 3 months ago</td>\n",
       "      <td>once a week</td>\n",
       "      <td>never</td>\n",
       "      <td>9</td>\n",
       "      <td>Altered</td>\n",
       "    </tr>\n",
       "  </tbody>\n",
       "</table>\n",
       "</div>"
      ],
      "text/plain": [
       "   Season  Age Childish diseases Accident or serious trauma  \\\n",
       "0  spring   30                no                        yes   \n",
       "1  spring   35               yes                         no   \n",
       "2  spring   27               yes                         no   \n",
       "3  spring   32                no                        yes   \n",
       "4  spring   30               yes                        yes   \n",
       "\n",
       "  Surgical intervention High fevers in the last year  \\\n",
       "0                   yes       more than 3 months ago   \n",
       "1                   yes       more than 3 months ago   \n",
       "2                    no       more than 3 months ago   \n",
       "3                   yes       more than 3 months ago   \n",
       "4                    no       more than 3 months ago   \n",
       "\n",
       "  Frequency of alcohol consumption Smoking habit  \\\n",
       "0                      once a week    occasional   \n",
       "1                      once a week         daily   \n",
       "2             hardly ever or never         never   \n",
       "3             hardly ever or never         never   \n",
       "4                      once a week         never   \n",
       "\n",
       "   Number of hours spent sitting per day Diagnosis  \n",
       "0                                     16    Normal  \n",
       "1                                      6   Altered  \n",
       "2                                      9    Normal  \n",
       "3                                      7    Normal  \n",
       "4                                      9   Altered  "
      ]
     },
     "execution_count": 3,
     "metadata": {},
     "output_type": "execute_result"
    }
   ],
   "source": [
    "df.head()"
   ]
  },
  {
   "cell_type": "markdown",
   "id": "e01d9e38",
   "metadata": {},
   "source": [
    "#### Access the last 5 rows of a dataframe"
   ]
  },
  {
   "cell_type": "code",
   "execution_count": 4,
   "id": "7e93afe3",
   "metadata": {},
   "outputs": [
    {
     "data": {
      "text/html": [
       "<div>\n",
       "<style scoped>\n",
       "    .dataframe tbody tr th:only-of-type {\n",
       "        vertical-align: middle;\n",
       "    }\n",
       "\n",
       "    .dataframe tbody tr th {\n",
       "        vertical-align: top;\n",
       "    }\n",
       "\n",
       "    .dataframe thead th {\n",
       "        text-align: right;\n",
       "    }\n",
       "</style>\n",
       "<table border=\"1\" class=\"dataframe\">\n",
       "  <thead>\n",
       "    <tr style=\"text-align: right;\">\n",
       "      <th></th>\n",
       "      <th>Season</th>\n",
       "      <th>Age</th>\n",
       "      <th>Childish diseases</th>\n",
       "      <th>Accident or serious trauma</th>\n",
       "      <th>Surgical intervention</th>\n",
       "      <th>High fevers in the last year</th>\n",
       "      <th>Frequency of alcohol consumption</th>\n",
       "      <th>Smoking habit</th>\n",
       "      <th>Number of hours spent sitting per day</th>\n",
       "      <th>Diagnosis</th>\n",
       "    </tr>\n",
       "  </thead>\n",
       "  <tbody>\n",
       "    <tr>\n",
       "      <th>95</th>\n",
       "      <td>winter</td>\n",
       "      <td>30</td>\n",
       "      <td>yes</td>\n",
       "      <td>no</td>\n",
       "      <td>no</td>\n",
       "      <td>more than 3 months ago</td>\n",
       "      <td>hardly ever or never</td>\n",
       "      <td>never</td>\n",
       "      <td>9</td>\n",
       "      <td>Normal</td>\n",
       "    </tr>\n",
       "    <tr>\n",
       "      <th>96</th>\n",
       "      <td>winter</td>\n",
       "      <td>29</td>\n",
       "      <td>yes</td>\n",
       "      <td>no</td>\n",
       "      <td>no</td>\n",
       "      <td>more than 3 months ago</td>\n",
       "      <td>once a week</td>\n",
       "      <td>occasional</td>\n",
       "      <td>9</td>\n",
       "      <td>Normal</td>\n",
       "    </tr>\n",
       "    <tr>\n",
       "      <th>97</th>\n",
       "      <td>winter</td>\n",
       "      <td>30</td>\n",
       "      <td>yes</td>\n",
       "      <td>yes</td>\n",
       "      <td>yes</td>\n",
       "      <td>more than 3 months ago</td>\n",
       "      <td>hardly ever or never</td>\n",
       "      <td>never</td>\n",
       "      <td>6</td>\n",
       "      <td>Normal</td>\n",
       "    </tr>\n",
       "    <tr>\n",
       "      <th>98</th>\n",
       "      <td>winter</td>\n",
       "      <td>30</td>\n",
       "      <td>yes</td>\n",
       "      <td>no</td>\n",
       "      <td>yes</td>\n",
       "      <td>more than 3 months ago</td>\n",
       "      <td>hardly ever or never</td>\n",
       "      <td>occasional</td>\n",
       "      <td>3</td>\n",
       "      <td>Normal</td>\n",
       "    </tr>\n",
       "    <tr>\n",
       "      <th>99</th>\n",
       "      <td>winter</td>\n",
       "      <td>30</td>\n",
       "      <td>no</td>\n",
       "      <td>yes</td>\n",
       "      <td>yes</td>\n",
       "      <td>more than 3 months ago</td>\n",
       "      <td>several times a week</td>\n",
       "      <td>never</td>\n",
       "      <td>3</td>\n",
       "      <td>Normal</td>\n",
       "    </tr>\n",
       "  </tbody>\n",
       "</table>\n",
       "</div>"
      ],
      "text/plain": [
       "    Season  Age Childish diseases Accident or serious trauma  \\\n",
       "95  winter   30               yes                         no   \n",
       "96  winter   29               yes                         no   \n",
       "97  winter   30               yes                        yes   \n",
       "98  winter   30               yes                         no   \n",
       "99  winter   30                no                        yes   \n",
       "\n",
       "   Surgical intervention High fevers in the last year  \\\n",
       "95                    no       more than 3 months ago   \n",
       "96                    no       more than 3 months ago   \n",
       "97                   yes       more than 3 months ago   \n",
       "98                   yes       more than 3 months ago   \n",
       "99                   yes       more than 3 months ago   \n",
       "\n",
       "   Frequency of alcohol consumption Smoking habit  \\\n",
       "95             hardly ever or never         never   \n",
       "96                      once a week    occasional   \n",
       "97             hardly ever or never         never   \n",
       "98             hardly ever or never    occasional   \n",
       "99             several times a week         never   \n",
       "\n",
       "    Number of hours spent sitting per day Diagnosis  \n",
       "95                                      9    Normal  \n",
       "96                                      9    Normal  \n",
       "97                                      6    Normal  \n",
       "98                                      3    Normal  \n",
       "99                                      3    Normal  "
      ]
     },
     "execution_count": 4,
     "metadata": {},
     "output_type": "execute_result"
    }
   ],
   "source": [
    "df.tail()"
   ]
  },
  {
   "cell_type": "markdown",
   "id": "05792fd9",
   "metadata": {},
   "source": [
    "#### Prints information about the DataFrame"
   ]
  },
  {
   "cell_type": "code",
   "execution_count": 5,
   "id": "0aeb855e",
   "metadata": {},
   "outputs": [
    {
     "name": "stdout",
     "output_type": "stream",
     "text": [
      "<class 'pandas.core.frame.DataFrame'>\n",
      "RangeIndex: 100 entries, 0 to 99\n",
      "Data columns (total 10 columns):\n",
      " #   Column                                 Non-Null Count  Dtype \n",
      "---  ------                                 --------------  ----- \n",
      " 0   Season                                 100 non-null    object\n",
      " 1   Age                                    100 non-null    int64 \n",
      " 2   Childish diseases                      100 non-null    object\n",
      " 3   Accident or serious trauma             100 non-null    object\n",
      " 4   Surgical intervention                  100 non-null    object\n",
      " 5   High fevers in the last year           100 non-null    object\n",
      " 6   Frequency of alcohol consumption       100 non-null    object\n",
      " 7   Smoking habit                          100 non-null    object\n",
      " 8   Number of hours spent sitting per day  100 non-null    int64 \n",
      " 9   Diagnosis                              100 non-null    object\n",
      "dtypes: int64(2), object(8)\n",
      "memory usage: 7.9+ KB\n"
     ]
    }
   ],
   "source": [
    "df.info()"
   ]
  },
  {
   "cell_type": "markdown",
   "id": "67926fa9",
   "metadata": {},
   "source": [
    "#### Check the number of missing values in each column"
   ]
  },
  {
   "cell_type": "code",
   "execution_count": 6,
   "id": "5c7d59f7",
   "metadata": {},
   "outputs": [
    {
     "data": {
      "text/plain": [
       "Season                                   0\n",
       "Age                                      0\n",
       "Childish diseases                        0\n",
       "Accident or serious trauma               0\n",
       "Surgical intervention                    0\n",
       "High fevers in the last year             0\n",
       "Frequency of alcohol consumption         0\n",
       "Smoking habit                            0\n",
       "Number of hours spent sitting per day    0\n",
       "Diagnosis                                0\n",
       "dtype: int64"
      ]
     },
     "execution_count": 6,
     "metadata": {},
     "output_type": "execute_result"
    }
   ],
   "source": [
    "df.isna().sum()"
   ]
  },
  {
   "cell_type": "markdown",
   "id": "958282ef",
   "metadata": {},
   "source": [
    "#### Statistical Information about the DataFrame"
   ]
  },
  {
   "cell_type": "code",
   "execution_count": 7,
   "id": "df0121f1",
   "metadata": {},
   "outputs": [
    {
     "data": {
      "text/html": [
       "<div>\n",
       "<style scoped>\n",
       "    .dataframe tbody tr th:only-of-type {\n",
       "        vertical-align: middle;\n",
       "    }\n",
       "\n",
       "    .dataframe tbody tr th {\n",
       "        vertical-align: top;\n",
       "    }\n",
       "\n",
       "    .dataframe thead th {\n",
       "        text-align: right;\n",
       "    }\n",
       "</style>\n",
       "<table border=\"1\" class=\"dataframe\">\n",
       "  <thead>\n",
       "    <tr style=\"text-align: right;\">\n",
       "      <th></th>\n",
       "      <th>Age</th>\n",
       "      <th>Number of hours spent sitting per day</th>\n",
       "    </tr>\n",
       "  </thead>\n",
       "  <tbody>\n",
       "    <tr>\n",
       "      <th>count</th>\n",
       "      <td>100.000000</td>\n",
       "      <td>100.000000</td>\n",
       "    </tr>\n",
       "    <tr>\n",
       "      <th>mean</th>\n",
       "      <td>30.110000</td>\n",
       "      <td>10.800000</td>\n",
       "    </tr>\n",
       "    <tr>\n",
       "      <th>std</th>\n",
       "      <td>2.246861</td>\n",
       "      <td>33.616975</td>\n",
       "    </tr>\n",
       "    <tr>\n",
       "      <th>min</th>\n",
       "      <td>27.000000</td>\n",
       "      <td>1.000000</td>\n",
       "    </tr>\n",
       "    <tr>\n",
       "      <th>25%</th>\n",
       "      <td>28.000000</td>\n",
       "      <td>5.000000</td>\n",
       "    </tr>\n",
       "    <tr>\n",
       "      <th>50%</th>\n",
       "      <td>30.000000</td>\n",
       "      <td>7.000000</td>\n",
       "    </tr>\n",
       "    <tr>\n",
       "      <th>75%</th>\n",
       "      <td>32.000000</td>\n",
       "      <td>9.000000</td>\n",
       "    </tr>\n",
       "    <tr>\n",
       "      <th>max</th>\n",
       "      <td>36.000000</td>\n",
       "      <td>342.000000</td>\n",
       "    </tr>\n",
       "  </tbody>\n",
       "</table>\n",
       "</div>"
      ],
      "text/plain": [
       "              Age  Number of hours spent sitting per day\n",
       "count  100.000000                             100.000000\n",
       "mean    30.110000                              10.800000\n",
       "std      2.246861                              33.616975\n",
       "min     27.000000                               1.000000\n",
       "25%     28.000000                               5.000000\n",
       "50%     30.000000                               7.000000\n",
       "75%     32.000000                               9.000000\n",
       "max     36.000000                             342.000000"
      ]
     },
     "execution_count": 7,
     "metadata": {},
     "output_type": "execute_result"
    }
   ],
   "source": [
    "df.describe()"
   ]
  },
  {
   "cell_type": "markdown",
   "id": "3973c04c",
   "metadata": {},
   "source": [
    "#### Correlation"
   ]
  },
  {
   "cell_type": "code",
   "execution_count": 8,
   "id": "678ba9c2",
   "metadata": {},
   "outputs": [
    {
     "data": {
      "text/html": [
       "<div>\n",
       "<style scoped>\n",
       "    .dataframe tbody tr th:only-of-type {\n",
       "        vertical-align: middle;\n",
       "    }\n",
       "\n",
       "    .dataframe tbody tr th {\n",
       "        vertical-align: top;\n",
       "    }\n",
       "\n",
       "    .dataframe thead th {\n",
       "        text-align: right;\n",
       "    }\n",
       "</style>\n",
       "<table border=\"1\" class=\"dataframe\">\n",
       "  <thead>\n",
       "    <tr style=\"text-align: right;\">\n",
       "      <th></th>\n",
       "      <th>Age</th>\n",
       "      <th>Number of hours spent sitting per day</th>\n",
       "    </tr>\n",
       "  </thead>\n",
       "  <tbody>\n",
       "    <tr>\n",
       "      <th>Age</th>\n",
       "      <td>1.000000</td>\n",
       "      <td>-0.046645</td>\n",
       "    </tr>\n",
       "    <tr>\n",
       "      <th>Number of hours spent sitting per day</th>\n",
       "      <td>-0.046645</td>\n",
       "      <td>1.000000</td>\n",
       "    </tr>\n",
       "  </tbody>\n",
       "</table>\n",
       "</div>"
      ],
      "text/plain": [
       "                                            Age  \\\n",
       "Age                                    1.000000   \n",
       "Number of hours spent sitting per day -0.046645   \n",
       "\n",
       "                                       Number of hours spent sitting per day  \n",
       "Age                                                                -0.046645  \n",
       "Number of hours spent sitting per day                               1.000000  "
      ]
     },
     "execution_count": 8,
     "metadata": {},
     "output_type": "execute_result"
    }
   ],
   "source": [
    "df.corr()"
   ]
  },
  {
   "cell_type": "code",
   "execution_count": 9,
   "id": "a12fd419",
   "metadata": {},
   "outputs": [
    {
     "data": {
      "image/png": "[encoded data removed]",
      "text/plain": [
       "<Figure size 432x288 with 2 Axes>"
      ]
     },
     "metadata": {
      "needs_background": "light"
     },
     "output_type": "display_data"
    }
   ],
   "source": [
    "sns.heatmap(df.corr())\n",
    "plt.show()"
   ]
  },
  {
   "cell_type": "markdown",
   "id": "489fc48d",
   "metadata": {},
   "source": [
    "### Analysis of Data"
   ]
  },
  {
   "cell_type": "markdown",
   "id": "a6386333",
   "metadata": {},
   "source": [
    "#### Percentage of the Diagnosis in the dataset"
   ]
  },
  {
   "cell_type": "code",
   "execution_count": 10,
   "id": "d4de350e",
   "metadata": {},
   "outputs": [
    {
     "data": {
      "image/png": "[encoded data removed]",
      "text/plain": [
       "<Figure size 432x288 with 1 Axes>"
      ]
     },
     "metadata": {},
     "output_type": "display_data"
    }
   ],
   "source": [
    "df.groupby('Diagnosis').size().plot(kind='pie',  textprops={'fontsize': 20},autopct='%1.0f%%')\n",
    "plt.title('Percentage of the Diagnosis in the dataset')\n",
    "plt.show()"
   ]
  },
  {
   "cell_type": "markdown",
   "id": "e66973ee",
   "metadata": {},
   "source": [
    "#### Observation\n",
    "- 88% of the people were normal\n",
    "- 12% of the people were altered"
   ]
  },
  {
   "cell_type": "code",
   "execution_count": 11,
   "id": "7980fec6",
   "metadata": {},
   "outputs": [
    {
     "data": {
      "image/png": "[encoded data removed]",
      "text/plain": [
       "<Figure size 576x576 with 1 Axes>"
      ]
     },
     "metadata": {},
     "output_type": "display_data"
    }
   ],
   "source": [
    "sns.set_style(style=\"whitegrid\")\n",
    "fig, ax = plt.subplots(figsize=(8,8))\n",
    "ax.set_title(\"Season wise count\")\n",
    "\n",
    "sns.set(font_scale=2)\n",
    "sns.countplot(x='Season', data=df)\n",
    "plt.show()"
   ]
  },
  {
   "cell_type": "markdown",
   "id": "042a4ed5",
   "metadata": {},
   "source": [
    "#### Observation\n",
    "- Spring season having the highest count, followed by fall, winter and summer"
   ]
  },
  {
   "cell_type": "markdown",
   "id": "b54898cd",
   "metadata": {},
   "source": [
    "#### As you know smoking is bad for your health. Let's see if it had an effect on patients."
   ]
  },
  {
   "cell_type": "code",
   "execution_count": 12,
   "id": "c0619c5a",
   "metadata": {},
   "outputs": [
    {
     "data": {
      "image/png": "[encoded data removed]",
      "text/plain": [
       "<Figure size 1080x504 with 1 Axes>"
      ]
     },
     "metadata": {},
     "output_type": "display_data"
    }
   ],
   "source": [
    "fig, ax = plt.subplots(figsize=(15,7))\n",
    "\n",
    "df.groupby('Diagnosis')['Smoking habit'].value_counts().plot(ax=ax, kind='bar', \n",
    "                                                    title = 'Bar chart of Risk by Smoking', colormap = 'coolwarm')\n",
    "ax.set(xlabel = \"(Diagnosis, Smoking habit)\")\n",
    "\n",
    "plt.show()"
   ]
  },
  {
   "cell_type": "markdown",
   "id": "49456d6c",
   "metadata": {},
   "source": [
    "#### Observation \n",
    "- This shows how many patients altered being a smoker (Altered,never)\n",
    "- This shows how many patients altered being a smoker (Altered,daily)\n",
    "- This shows how many patients altered being a smoker (Altered,occasional)\n",
    "- This shows how many patients normal without being a smoker (Normal,never)\n",
    "- This shows how many patients normal without being a smoker (Normal,occasional)\n",
    "- This shows how many patients normal without being a smoker (Normal,daily)\n",
    "\n",
    "\n",
    "- This clearly shows that the person without being a smoker will be cured and no side effects in the fertility rate"
   ]
  },
  {
   "cell_type": "markdown",
   "id": "818d173f",
   "metadata": {},
   "source": [
    "#### Frequency of alcohol consumption"
   ]
  },
  {
   "cell_type": "code",
   "execution_count": 13,
   "id": "ca11761a",
   "metadata": {},
   "outputs": [
    {
     "data": {
      "image/png": "[encoded data removed]",
      "text/plain": [
       "<Figure size 1080x504 with 1 Axes>"
      ]
     },
     "metadata": {},
     "output_type": "display_data"
    }
   ],
   "source": [
    "fig, ax = plt.subplots(figsize=(15,7))\n",
    "\n",
    "df.groupby('Diagnosis')['Frequency of alcohol consumption'].value_counts().plot(ax=ax, kind='bar', \n",
    "                                                    title = 'Bar chart of Risk by alcohol consumption', colormap = 'coolwarm')\n",
    "ax.set(xlabel = \"(Diagnosis, Frequency of alcohol consumption)\")\n",
    "\n",
    "plt.show()"
   ]
  },
  {
   "cell_type": "markdown",
   "id": "df2e310e",
   "metadata": {},
   "source": [
    "#### Observation\n",
    "- This is clearly shows that the person drank several times a day will be affected by the fertility rate"
   ]
  },
  {
   "cell_type": "markdown",
   "id": "364d9ed9",
   "metadata": {},
   "source": [
    "#### Surgical intervention countwise record"
   ]
  },
  {
   "cell_type": "code",
   "execution_count": 14,
   "id": "bb85c830",
   "metadata": {},
   "outputs": [
    {
     "data": {
      "image/png": "[encoded data removed]",
      "text/plain": [
       "<Figure size 576x576 with 1 Axes>"
      ]
     },
     "metadata": {},
     "output_type": "display_data"
    }
   ],
   "source": [
    "sns.set_style(style=\"whitegrid\")\n",
    "fig, ax = plt.subplots(figsize=(8,8))\n",
    "ax.set_title(\"Surgical intervention wise count\")\n",
    "\n",
    "sns.set(font_scale=2)\n",
    "sns.countplot(x='Surgical intervention', data=df)\n",
    "plt.show()"
   ]
  },
  {
   "cell_type": "markdown",
   "id": "de4ca02f",
   "metadata": {},
   "source": [
    "#### Observation\n",
    "- This is clearly shows that the person having surgical intervention will be affected by the fertility rate"
   ]
  },
  {
   "cell_type": "code",
   "execution_count": 15,
   "id": "58f7509b",
   "metadata": {},
   "outputs": [
    {
     "data": {
      "text/plain": [
       "Season                                   object\n",
       "Age                                       int64\n",
       "Childish diseases                        object\n",
       "Accident or serious trauma               object\n",
       "Surgical intervention                    object\n",
       "High fevers in the last year             object\n",
       "Frequency of alcohol consumption         object\n",
       "Smoking habit                            object\n",
       "Number of hours spent sitting per day     int64\n",
       "Diagnosis                                object\n",
       "dtype: object"
      ]
     },
     "execution_count": 15,
     "metadata": {},
     "output_type": "execute_result"
    }
   ],
   "source": [
    "df.dtypes"
   ]
  },
  {
   "cell_type": "code",
   "execution_count": 16,
   "id": "25fb0b10",
   "metadata": {},
   "outputs": [
    {
     "data": {
      "text/plain": [
       "spring    37\n",
       "fall      31\n",
       "winter    28\n",
       "summer     4\n",
       "Name: Season, dtype: int64"
      ]
     },
     "execution_count": 16,
     "metadata": {},
     "output_type": "execute_result"
    }
   ],
   "source": [
    "df['Season'].value_counts()"
   ]
  },
  {
   "cell_type": "code",
   "execution_count": 17,
   "id": "e9c6711a",
   "metadata": {},
   "outputs": [],
   "source": [
    "df.Season=df.Season.replace({\"spring\":1,\"fall\":2,\"winter\":3,\"summer\":4})"
   ]
  },
  {
   "cell_type": "code",
   "execution_count": 18,
   "id": "14f653ed",
   "metadata": {},
   "outputs": [
    {
     "data": {
      "text/plain": [
       "yes    87\n",
       "no     13\n",
       "Name: Childish diseases, dtype: int64"
      ]
     },
     "execution_count": 18,
     "metadata": {},
     "output_type": "execute_result"
    }
   ],
   "source": [
    "df['Childish diseases'].value_counts()"
   ]
  },
  {
   "cell_type": "code",
   "execution_count": 19,
   "id": "948fa398",
   "metadata": {},
   "outputs": [],
   "source": [
    "df['Childish diseases']=df['Childish diseases'].replace({\"yes\":1,\"no\":0})"
   ]
  },
  {
   "cell_type": "code",
   "execution_count": 20,
   "id": "35cd6005",
   "metadata": {},
   "outputs": [
    {
     "data": {
      "text/plain": [
       "no     56\n",
       "yes    44\n",
       "Name: Accident or serious trauma, dtype: int64"
      ]
     },
     "execution_count": 20,
     "metadata": {},
     "output_type": "execute_result"
    }
   ],
   "source": [
    "df['Accident or serious trauma'].value_counts()"
   ]
  },
  {
   "cell_type": "code",
   "execution_count": 21,
   "id": "150f2dd3",
   "metadata": {},
   "outputs": [],
   "source": [
    "df['Accident or serious trauma']=df['Accident or serious trauma'].replace({\"yes\":1,\"no\":0})"
   ]
  },
  {
   "cell_type": "code",
   "execution_count": 22,
   "id": "77b12002",
   "metadata": {},
   "outputs": [
    {
     "data": {
      "text/plain": [
       "yes    51\n",
       "no     49\n",
       "Name: Surgical intervention, dtype: int64"
      ]
     },
     "execution_count": 22,
     "metadata": {},
     "output_type": "execute_result"
    }
   ],
   "source": [
    "df['Surgical intervention'].value_counts()"
   ]
  },
  {
   "cell_type": "code",
   "execution_count": 23,
   "id": "fe8b92cb",
   "metadata": {},
   "outputs": [],
   "source": [
    "df['Surgical intervention']=df['Surgical intervention'].replace({\"yes\":1,\"no\":0})"
   ]
  },
  {
   "cell_type": "code",
   "execution_count": 24,
   "id": "63cdf97e",
   "metadata": {},
   "outputs": [
    {
     "data": {
      "text/plain": [
       "more than 3 months ago    63\n",
       "no                        28\n",
       "less than 3 months ago     9\n",
       "Name: High fevers in the last year, dtype: int64"
      ]
     },
     "execution_count": 24,
     "metadata": {},
     "output_type": "execute_result"
    }
   ],
   "source": [
    "df['High fevers in the last year'].value_counts()"
   ]
  },
  {
   "cell_type": "code",
   "execution_count": 25,
   "id": "867d35f6",
   "metadata": {},
   "outputs": [],
   "source": [
    "df['High fevers in the last year']=df['High fevers in the last year'].replace({\"more than 3 months ago\":2,\"no\":0,\"less than 3 months ago\":1})"
   ]
  },
  {
   "cell_type": "code",
   "execution_count": 26,
   "id": "3870c0c2",
   "metadata": {},
   "outputs": [
    {
     "data": {
      "text/plain": [
       "never         56\n",
       "occasional    23\n",
       "daily         21\n",
       "Name: Smoking habit, dtype: int64"
      ]
     },
     "execution_count": 26,
     "metadata": {},
     "output_type": "execute_result"
    }
   ],
   "source": [
    "df['Smoking habit'].value_counts()"
   ]
  },
  {
   "cell_type": "code",
   "execution_count": 27,
   "id": "685d341e",
   "metadata": {},
   "outputs": [],
   "source": [
    "df['Smoking habit']=df['Smoking habit'].replace({\"daily\":1,\"occasional\":2,\"never\":0})"
   ]
  },
  {
   "cell_type": "code",
   "execution_count": 28,
   "id": "d6511dd8",
   "metadata": {},
   "outputs": [
    {
     "data": {
      "text/plain": [
       "hardly ever or never    40\n",
       "once a week             39\n",
       "several times a week    19\n",
       "several times a day      1\n",
       "every day                1\n",
       "Name: Frequency of alcohol consumption, dtype: int64"
      ]
     },
     "execution_count": 28,
     "metadata": {},
     "output_type": "execute_result"
    }
   ],
   "source": [
    "df['Frequency of alcohol consumption'].value_counts()"
   ]
  },
  {
   "cell_type": "code",
   "execution_count": 29,
   "id": "495cff3d",
   "metadata": {},
   "outputs": [],
   "source": [
    "df['Frequency of alcohol consumption']=df['Frequency of alcohol consumption'].replace({\"every day\":4,\"several times a day\":3,\"several times a week\":2,\"once a week\":1,\"hardly ever or never\":0})"
   ]
  },
  {
   "cell_type": "code",
   "execution_count": 30,
   "id": "29664aa1",
   "metadata": {},
   "outputs": [
    {
     "data": {
      "text/html": [
       "<div>\n",
       "<style scoped>\n",
       "    .dataframe tbody tr th:only-of-type {\n",
       "        vertical-align: middle;\n",
       "    }\n",
       "\n",
       "    .dataframe tbody tr th {\n",
       "        vertical-align: top;\n",
       "    }\n",
       "\n",
       "    .dataframe thead th {\n",
       "        text-align: right;\n",
       "    }\n",
       "</style>\n",
       "<table border=\"1\" class=\"dataframe\">\n",
       "  <thead>\n",
       "    <tr style=\"text-align: right;\">\n",
       "      <th></th>\n",
       "      <th>Season</th>\n",
       "      <th>Age</th>\n",
       "      <th>Childish diseases</th>\n",
       "      <th>Accident or serious trauma</th>\n",
       "      <th>Surgical intervention</th>\n",
       "      <th>High fevers in the last year</th>\n",
       "      <th>Frequency of alcohol consumption</th>\n",
       "      <th>Smoking habit</th>\n",
       "      <th>Number of hours spent sitting per day</th>\n",
       "      <th>Diagnosis</th>\n",
       "    </tr>\n",
       "  </thead>\n",
       "  <tbody>\n",
       "    <tr>\n",
       "      <th>0</th>\n",
       "      <td>1</td>\n",
       "      <td>30</td>\n",
       "      <td>0</td>\n",
       "      <td>1</td>\n",
       "      <td>1</td>\n",
       "      <td>2</td>\n",
       "      <td>1</td>\n",
       "      <td>2</td>\n",
       "      <td>16</td>\n",
       "      <td>Normal</td>\n",
       "    </tr>\n",
       "    <tr>\n",
       "      <th>1</th>\n",
       "      <td>1</td>\n",
       "      <td>35</td>\n",
       "      <td>1</td>\n",
       "      <td>0</td>\n",
       "      <td>1</td>\n",
       "      <td>2</td>\n",
       "      <td>1</td>\n",
       "      <td>1</td>\n",
       "      <td>6</td>\n",
       "      <td>Altered</td>\n",
       "    </tr>\n",
       "    <tr>\n",
       "      <th>2</th>\n",
       "      <td>1</td>\n",
       "      <td>27</td>\n",
       "      <td>1</td>\n",
       "      <td>0</td>\n",
       "      <td>0</td>\n",
       "      <td>2</td>\n",
       "      <td>0</td>\n",
       "      <td>0</td>\n",
       "      <td>9</td>\n",
       "      <td>Normal</td>\n",
       "    </tr>\n",
       "    <tr>\n",
       "      <th>3</th>\n",
       "      <td>1</td>\n",
       "      <td>32</td>\n",
       "      <td>0</td>\n",
       "      <td>1</td>\n",
       "      <td>1</td>\n",
       "      <td>2</td>\n",
       "      <td>0</td>\n",
       "      <td>0</td>\n",
       "      <td>7</td>\n",
       "      <td>Normal</td>\n",
       "    </tr>\n",
       "    <tr>\n",
       "      <th>4</th>\n",
       "      <td>1</td>\n",
       "      <td>30</td>\n",
       "      <td>1</td>\n",
       "      <td>1</td>\n",
       "      <td>0</td>\n",
       "      <td>2</td>\n",
       "      <td>1</td>\n",
       "      <td>0</td>\n",
       "      <td>9</td>\n",
       "      <td>Altered</td>\n",
       "    </tr>\n",
       "  </tbody>\n",
       "</table>\n",
       "</div>"
      ],
      "text/plain": [
       "   Season  Age  Childish diseases  Accident or serious trauma  \\\n",
       "0       1   30                  0                           1   \n",
       "1       1   35                  1                           0   \n",
       "2       1   27                  1                           0   \n",
       "3       1   32                  0                           1   \n",
       "4       1   30                  1                           1   \n",
       "\n",
       "   Surgical intervention  High fevers in the last year  \\\n",
       "0                      1                             2   \n",
       "1                      1                             2   \n",
       "2                      0                             2   \n",
       "3                      1                             2   \n",
       "4                      0                             2   \n",
       "\n",
       "   Frequency of alcohol consumption  Smoking habit  \\\n",
       "0                                 1              2   \n",
       "1                                 1              1   \n",
       "2                                 0              0   \n",
       "3                                 0              0   \n",
       "4                                 1              0   \n",
       "\n",
       "   Number of hours spent sitting per day Diagnosis  \n",
       "0                                     16    Normal  \n",
       "1                                      6   Altered  \n",
       "2                                      9    Normal  \n",
       "3                                      7    Normal  \n",
       "4                                      9   Altered  "
      ]
     },
     "execution_count": 30,
     "metadata": {},
     "output_type": "execute_result"
    }
   ],
   "source": [
    "df.head()"
   ]
  },
  {
   "cell_type": "markdown",
   "id": "d2f312c3",
   "metadata": {},
   "source": [
    "### Creation of a Model"
   ]
  },
  {
   "cell_type": "markdown",
   "id": "6c4732fc",
   "metadata": {},
   "source": [
    "#### Take the X and y value"
   ]
  },
  {
   "cell_type": "code",
   "execution_count": 31,
   "id": "ba5ca9a2",
   "metadata": {},
   "outputs": [],
   "source": [
    "x=df.drop('Diagnosis',axis=1)"
   ]
  },
  {
   "cell_type": "code",
   "execution_count": 32,
   "id": "04e7e8cd",
   "metadata": {},
   "outputs": [
    {
     "data": {
      "text/html": [
       "<div>\n",
       "<style scoped>\n",
       "    .dataframe tbody tr th:only-of-type {\n",
       "        vertical-align: middle;\n",
       "    }\n",
       "\n",
       "    .dataframe tbody tr th {\n",
       "        vertical-align: top;\n",
       "    }\n",
       "\n",
       "    .dataframe thead th {\n",
       "        text-align: right;\n",
       "    }\n",
       "</style>\n",
       "<table border=\"1\" class=\"dataframe\">\n",
       "  <thead>\n",
       "    <tr style=\"text-align: right;\">\n",
       "      <th></th>\n",
       "      <th>Season</th>\n",
       "      <th>Age</th>\n",
       "      <th>Childish diseases</th>\n",
       "      <th>Accident or serious trauma</th>\n",
       "      <th>Surgical intervention</th>\n",
       "      <th>High fevers in the last year</th>\n",
       "      <th>Frequency of alcohol consumption</th>\n",
       "      <th>Smoking habit</th>\n",
       "      <th>Number of hours spent sitting per day</th>\n",
       "    </tr>\n",
       "  </thead>\n",
       "  <tbody>\n",
       "    <tr>\n",
       "      <th>0</th>\n",
       "      <td>1</td>\n",
       "      <td>30</td>\n",
       "      <td>0</td>\n",
       "      <td>1</td>\n",
       "      <td>1</td>\n",
       "      <td>2</td>\n",
       "      <td>1</td>\n",
       "      <td>2</td>\n",
       "      <td>16</td>\n",
       "    </tr>\n",
       "    <tr>\n",
       "      <th>1</th>\n",
       "      <td>1</td>\n",
       "      <td>35</td>\n",
       "      <td>1</td>\n",
       "      <td>0</td>\n",
       "      <td>1</td>\n",
       "      <td>2</td>\n",
       "      <td>1</td>\n",
       "      <td>1</td>\n",
       "      <td>6</td>\n",
       "    </tr>\n",
       "    <tr>\n",
       "      <th>2</th>\n",
       "      <td>1</td>\n",
       "      <td>27</td>\n",
       "      <td>1</td>\n",
       "      <td>0</td>\n",
       "      <td>0</td>\n",
       "      <td>2</td>\n",
       "      <td>0</td>\n",
       "      <td>0</td>\n",
       "      <td>9</td>\n",
       "    </tr>\n",
       "    <tr>\n",
       "      <th>3</th>\n",
       "      <td>1</td>\n",
       "      <td>32</td>\n",
       "      <td>0</td>\n",
       "      <td>1</td>\n",
       "      <td>1</td>\n",
       "      <td>2</td>\n",
       "      <td>0</td>\n",
       "      <td>0</td>\n",
       "      <td>7</td>\n",
       "    </tr>\n",
       "    <tr>\n",
       "      <th>4</th>\n",
       "      <td>1</td>\n",
       "      <td>30</td>\n",
       "      <td>1</td>\n",
       "      <td>1</td>\n",
       "      <td>0</td>\n",
       "      <td>2</td>\n",
       "      <td>1</td>\n",
       "      <td>0</td>\n",
       "      <td>9</td>\n",
       "    </tr>\n",
       "    <tr>\n",
       "      <th>...</th>\n",
       "      <td>...</td>\n",
       "      <td>...</td>\n",
       "      <td>...</td>\n",
       "      <td>...</td>\n",
       "      <td>...</td>\n",
       "      <td>...</td>\n",
       "      <td>...</td>\n",
       "      <td>...</td>\n",
       "      <td>...</td>\n",
       "    </tr>\n",
       "    <tr>\n",
       "      <th>95</th>\n",
       "      <td>3</td>\n",
       "      <td>30</td>\n",
       "      <td>1</td>\n",
       "      <td>0</td>\n",
       "      <td>0</td>\n",
       "      <td>2</td>\n",
       "      <td>0</td>\n",
       "      <td>0</td>\n",
       "      <td>9</td>\n",
       "    </tr>\n",
       "    <tr>\n",
       "      <th>96</th>\n",
       "      <td>3</td>\n",
       "      <td>29</td>\n",
       "      <td>1</td>\n",
       "      <td>0</td>\n",
       "      <td>0</td>\n",
       "      <td>2</td>\n",
       "      <td>1</td>\n",
       "      <td>2</td>\n",
       "      <td>9</td>\n",
       "    </tr>\n",
       "    <tr>\n",
       "      <th>97</th>\n",
       "      <td>3</td>\n",
       "      <td>30</td>\n",
       "      <td>1</td>\n",
       "      <td>1</td>\n",
       "      <td>1</td>\n",
       "      <td>2</td>\n",
       "      <td>0</td>\n",
       "      <td>0</td>\n",
       "      <td>6</td>\n",
       "    </tr>\n",
       "    <tr>\n",
       "      <th>98</th>\n",
       "      <td>3</td>\n",
       "      <td>30</td>\n",
       "      <td>1</td>\n",
       "      <td>0</td>\n",
       "      <td>1</td>\n",
       "      <td>2</td>\n",
       "      <td>0</td>\n",
       "      <td>2</td>\n",
       "      <td>3</td>\n",
       "    </tr>\n",
       "    <tr>\n",
       "      <th>99</th>\n",
       "      <td>3</td>\n",
       "      <td>30</td>\n",
       "      <td>0</td>\n",
       "      <td>1</td>\n",
       "      <td>1</td>\n",
       "      <td>2</td>\n",
       "      <td>2</td>\n",
       "      <td>0</td>\n",
       "      <td>3</td>\n",
       "    </tr>\n",
       "  </tbody>\n",
       "</table>\n",
       "<p>100 rows × 9 columns</p>\n",
       "</div>"
      ],
      "text/plain": [
       "    Season  Age  Childish diseases  Accident or serious trauma  \\\n",
       "0        1   30                  0                           1   \n",
       "1        1   35                  1                           0   \n",
       "2        1   27                  1                           0   \n",
       "3        1   32                  0                           1   \n",
       "4        1   30                  1                           1   \n",
       "..     ...  ...                ...                         ...   \n",
       "95       3   30                  1                           0   \n",
       "96       3   29                  1                           0   \n",
       "97       3   30                  1                           1   \n",
       "98       3   30                  1                           0   \n",
       "99       3   30                  0                           1   \n",
       "\n",
       "    Surgical intervention  High fevers in the last year  \\\n",
       "0                       1                             2   \n",
       "1                       1                             2   \n",
       "2                       0                             2   \n",
       "3                       1                             2   \n",
       "4                       0                             2   \n",
       "..                    ...                           ...   \n",
       "95                      0                             2   \n",
       "96                      0                             2   \n",
       "97                      1                             2   \n",
       "98                      1                             2   \n",
       "99                      1                             2   \n",
       "\n",
       "    Frequency of alcohol consumption  Smoking habit  \\\n",
       "0                                  1              2   \n",
       "1                                  1              1   \n",
       "2                                  0              0   \n",
       "3                                  0              0   \n",
       "4                                  1              0   \n",
       "..                               ...            ...   \n",
       "95                                 0              0   \n",
       "96                                 1              2   \n",
       "97                                 0              0   \n",
       "98                                 0              2   \n",
       "99                                 2              0   \n",
       "\n",
       "    Number of hours spent sitting per day  \n",
       "0                                      16  \n",
       "1                                       6  \n",
       "2                                       9  \n",
       "3                                       7  \n",
       "4                                       9  \n",
       "..                                    ...  \n",
       "95                                      9  \n",
       "96                                      9  \n",
       "97                                      6  \n",
       "98                                      3  \n",
       "99                                      3  \n",
       "\n",
       "[100 rows x 9 columns]"
      ]
     },
     "execution_count": 32,
     "metadata": {},
     "output_type": "execute_result"
    }
   ],
   "source": [
    "x"
   ]
  },
  {
   "cell_type": "code",
   "execution_count": 33,
   "id": "560f78b5",
   "metadata": {},
   "outputs": [
    {
     "data": {
      "text/plain": [
       "0      Normal\n",
       "1     Altered\n",
       "2      Normal\n",
       "3      Normal\n",
       "4     Altered\n",
       "       ...   \n",
       "95     Normal\n",
       "96     Normal\n",
       "97     Normal\n",
       "98     Normal\n",
       "99     Normal\n",
       "Name: Diagnosis, Length: 100, dtype: object"
      ]
     },
     "execution_count": 33,
     "metadata": {},
     "output_type": "execute_result"
    }
   ],
   "source": [
    "y=df.Diagnosis\n",
    "y"
   ]
  },
  {
   "cell_type": "code",
   "execution_count": 34,
   "id": "d3c63ad3",
   "metadata": {},
   "outputs": [
    {
     "data": {
      "text/plain": [
       "Normal     88\n",
       "Altered    12\n",
       "Name: Diagnosis, dtype: int64"
      ]
     },
     "execution_count": 34,
     "metadata": {},
     "output_type": "execute_result"
    }
   ],
   "source": [
    "y.value_counts()"
   ]
  },
  {
   "cell_type": "markdown",
   "id": "851c8141",
   "metadata": {},
   "source": [
    "#### Import the train_test_split from the sklearn"
   ]
  },
  {
   "cell_type": "code",
   "execution_count": 35,
   "id": "bd8d9981",
   "metadata": {},
   "outputs": [],
   "source": [
    "from sklearn.model_selection import train_test_split"
   ]
  },
  {
   "cell_type": "markdown",
   "id": "c5ba3ef6",
   "metadata": {},
   "source": [
    "#### Split the Training Dataset and Test Dataset"
   ]
  },
  {
   "cell_type": "code",
   "execution_count": 36,
   "id": "1af9f593",
   "metadata": {},
   "outputs": [],
   "source": [
    "x_train,x_test,y_train,y_test=train_test_split(x,y,test_size=0.25,random_state=1)"
   ]
  },
  {
   "cell_type": "markdown",
   "id": "e924cd5b",
   "metadata": {},
   "source": [
    "#### Import the SVM from the sklearn"
   ]
  },
  {
   "cell_type": "code",
   "execution_count": 37,
   "id": "b3a5c56f",
   "metadata": {},
   "outputs": [],
   "source": [
    "from sklearn.svm import SVC"
   ]
  },
  {
   "cell_type": "markdown",
   "id": "6556ad27",
   "metadata": {},
   "source": [
    "#### Fitting the training data to the model"
   ]
  },
  {
   "cell_type": "code",
   "execution_count": 38,
   "id": "99a9f38f",
   "metadata": {},
   "outputs": [
    {
     "data": {
      "text/plain": [
       "SVC()"
      ]
     },
     "execution_count": 38,
     "metadata": {},
     "output_type": "execute_result"
    }
   ],
   "source": [
    "model=SVC()\n",
    "model.fit(x_train,y_train)"
   ]
  },
  {
   "cell_type": "markdown",
   "id": "6d8d3cfb",
   "metadata": {},
   "source": [
    "### Score"
   ]
  },
  {
   "cell_type": "code",
   "execution_count": 39,
   "id": "03598d91",
   "metadata": {},
   "outputs": [
    {
     "data": {
      "text/plain": [
       "0.8933333333333333"
      ]
     },
     "execution_count": 39,
     "metadata": {},
     "output_type": "execute_result"
    }
   ],
   "source": [
    "model.score(x_train,y_train)"
   ]
  },
  {
   "cell_type": "code",
   "execution_count": 40,
   "id": "d8bea1bc",
   "metadata": {},
   "outputs": [
    {
     "data": {
      "text/plain": [
       "0.84"
      ]
     },
     "execution_count": 40,
     "metadata": {},
     "output_type": "execute_result"
    }
   ],
   "source": [
    "model.score(x_test,y_test)"
   ]
  },
  {
   "cell_type": "markdown",
   "id": "02fd94cd",
   "metadata": {},
   "source": [
    "### Prediction"
   ]
  },
  {
   "cell_type": "code",
   "execution_count": 41,
   "id": "2ac0d957",
   "metadata": {},
   "outputs": [
    {
     "data": {
      "text/plain": [
       "array(['Normal', 'Normal', 'Normal', 'Normal', 'Normal', 'Normal',\n",
       "       'Normal', 'Normal', 'Normal', 'Normal', 'Normal', 'Normal',\n",
       "       'Normal', 'Normal', 'Normal', 'Normal', 'Normal', 'Normal',\n",
       "       'Normal', 'Normal', 'Normal', 'Normal', 'Normal', 'Normal',\n",
       "       'Normal'], dtype=object)"
      ]
     },
     "execution_count": 41,
     "metadata": {},
     "output_type": "execute_result"
    }
   ],
   "source": [
    "y_predict=model.predict(x_test)\n",
    "y_predict"
   ]
  },
  {
   "cell_type": "markdown",
   "id": "95f272ac",
   "metadata": {},
   "source": [
    "### Accuracy"
   ]
  },
  {
   "cell_type": "markdown",
   "id": "c9ce1d36",
   "metadata": {},
   "source": [
    "#### Import the accuracy_score from the sklearn"
   ]
  },
  {
   "cell_type": "code",
   "execution_count": 42,
   "id": "4ea0bde8",
   "metadata": {},
   "outputs": [],
   "source": [
    "from sklearn.metrics import accuracy_score"
   ]
  },
  {
   "cell_type": "code",
   "execution_count": 43,
   "id": "a988e468",
   "metadata": {},
   "outputs": [
    {
     "data": {
      "text/plain": [
       "0.84"
      ]
     },
     "execution_count": 43,
     "metadata": {},
     "output_type": "execute_result"
    }
   ],
   "source": [
    "accuracy_score(y_test,y_predict)"
   ]
  },
  {
   "cell_type": "markdown",
   "id": "5fde55c3",
   "metadata": {},
   "source": [
    "### Confusion Matrix"
   ]
  },
  {
   "cell_type": "code",
   "execution_count": 44,
   "id": "03172fb0",
   "metadata": {},
   "outputs": [],
   "source": [
    "from sklearn.metrics import confusion_matrix\n",
    "from sklearn.metrics import plot_confusion_matrix"
   ]
  },
  {
   "cell_type": "code",
   "execution_count": 45,
   "id": "49f45026",
   "metadata": {},
   "outputs": [],
   "source": [
    "performance=confusion_matrix(y_test,y_predict)"
   ]
  },
  {
   "cell_type": "code",
   "execution_count": 46,
   "id": "0e7354df",
   "metadata": {},
   "outputs": [
    {
     "data": {
      "text/plain": [
       "array([[ 0,  4],\n",
       "       [ 0, 21]], dtype=int64)"
      ]
     },
     "execution_count": 46,
     "metadata": {},
     "output_type": "execute_result"
    }
   ],
   "source": [
    "performance"
   ]
  },
  {
   "cell_type": "code",
   "execution_count": 47,
   "id": "fa549987",
   "metadata": {},
   "outputs": [
    {
     "data": {
      "image/png": "[encoded data removed]",
      "text/plain": [
       "<Figure size 432x288 with 2 Axes>"
      ]
     },
     "metadata": {},
     "output_type": "display_data"
    }
   ],
   "source": [
    "plot_confusion_matrix(model,x_test,y_test)\n",
    "plt.show()"
   ]
  },
  {
   "cell_type": "markdown",
   "id": "ab2691cb",
   "metadata": {},
   "source": [
    "### Classification Report"
   ]
  },
  {
   "cell_type": "code",
   "execution_count": 48,
   "id": "d2b107da",
   "metadata": {},
   "outputs": [],
   "source": [
    "from sklearn.metrics import classification_report"
   ]
  },
  {
   "cell_type": "code",
   "execution_count": 49,
   "id": "1d15fb6c",
   "metadata": {},
   "outputs": [
    {
     "name": "stdout",
     "output_type": "stream",
     "text": [
      "              precision    recall  f1-score   support\n",
      "\n",
      "     Altered       0.00      0.00      0.00         4\n",
      "      Normal       0.84      1.00      0.91        21\n",
      "\n",
      "    accuracy                           0.84        25\n",
      "   macro avg       0.42      0.50      0.46        25\n",
      "weighted avg       0.71      0.84      0.77        25\n",
      "\n"
     ]
    }
   ],
   "source": [
    "print(classification_report(y_test,y_predict))"
   ]
  },
  {
   "cell_type": "markdown",
   "id": "5f441f18",
   "metadata": {},
   "source": [
    "### Model - SVC Gamma"
   ]
  },
  {
   "cell_type": "code",
   "execution_count": 50,
   "id": "9acbc417",
   "metadata": {},
   "outputs": [],
   "source": [
    "model_g=SVC(gamma=5) #Gamma "
   ]
  },
  {
   "cell_type": "code",
   "execution_count": 51,
   "id": "64c86661",
   "metadata": {},
   "outputs": [
    {
     "data": {
      "text/plain": [
       "SVC(gamma=5)"
      ]
     },
     "execution_count": 51,
     "metadata": {},
     "output_type": "execute_result"
    }
   ],
   "source": [
    "model_g.fit(x_train,y_train)"
   ]
  },
  {
   "cell_type": "code",
   "execution_count": 52,
   "id": "75500749",
   "metadata": {},
   "outputs": [
    {
     "data": {
      "text/plain": [
       "0.84"
      ]
     },
     "execution_count": 52,
     "metadata": {},
     "output_type": "execute_result"
    }
   ],
   "source": [
    "model_g.score(x_test,y_test)"
   ]
  },
  {
   "cell_type": "markdown",
   "id": "920c3e67",
   "metadata": {},
   "source": [
    "### Model - rbf"
   ]
  },
  {
   "cell_type": "code",
   "execution_count": 53,
   "id": "37e81320",
   "metadata": {},
   "outputs": [
    {
     "data": {
      "text/plain": [
       "0.84"
      ]
     },
     "execution_count": 53,
     "metadata": {},
     "output_type": "execute_result"
    }
   ],
   "source": [
    "model_rbf=SVC(kernel='rbf') #rbf\n",
    "model_rbf.fit(x_train,y_train)\n",
    "model_rbf.score(x_test,y_test)"
   ]
  },
  {
   "cell_type": "markdown",
   "id": "4e73e0d5",
   "metadata": {},
   "source": [
    "### Model - poly"
   ]
  },
  {
   "cell_type": "code",
   "execution_count": 54,
   "id": "9f8dfb46",
   "metadata": {},
   "outputs": [
    {
     "data": {
      "text/plain": [
       "0.84"
      ]
     },
     "execution_count": 54,
     "metadata": {},
     "output_type": "execute_result"
    }
   ],
   "source": [
    "model_p=SVC(kernel='poly') #poly\n",
    "model_p.fit(x_train,y_train)\n",
    "model_p.score(x_test,y_test)"
   ]
  },
  {
   "cell_type": "markdown",
   "id": "6be7d6fe",
   "metadata": {},
   "source": [
    "#### Conclusion\n",
    "- The people having smoking and alcohol habits will be affected by fertility problems\n",
    "- The people having surgical intervention will be affected by fertility problems\n",
    "- The people having Childish diseasesand Accident or serious trauma will be affected by fertility problems\n",
    "- These are the statements clearly identified in our analysis.\n",
    "\n",
    "\n",
    "\n",
    "- Over Accuracy of the model - **84%**"
   ]
  },
  {
   "cell_type": "code",
   "execution_count": null,
   "id": "9cac77d3",
   "metadata": {},
   "outputs": [],
   "source": []
  }
 ],
 "metadata": {
  "kernelspec": {
   "display_name": "Python 3 (ipykernel)",
   "language": "python",
   "name": "python3"
  },
  "language_info": {
   "codemirror_mode": {
    "name": "ipython",
    "version": 3
   },
   "file_extension": ".py",
   "mimetype": "text/x-python",
   "name": "python",
   "nbconvert_exporter": "python",
   "pygments_lexer": "ipython3",
   "version": "3.9.12"
  }
 },
 "nbformat": 4,
 "nbformat_minor": 5
}
